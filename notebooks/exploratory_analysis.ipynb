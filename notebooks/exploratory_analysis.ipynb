{
 "cells": [
  {
   "cell_type": "code",
   "execution_count": 1,
   "metadata": {},
   "outputs": [],
   "source": [
    "import os\n",
    "import sys\n",
    "sys.path.append(os.path.abspath('../'))\n",
    "from src.data_loader import parse_reads, parse_query\n",
    "\n",
    "reads, rvs_reads = parse_reads(\"../data/READS.fasta\")\n",
    "query = parse_query(\"../data/QUERY.fasta\")"
   ]
  },
  {
   "cell_type": "code",
   "execution_count": 2,
   "metadata": {},
   "outputs": [
    {
     "name": "stdout",
     "output_type": "stream",
     "text": [
      "total number of reads = 124520\n",
      "length of longest read = 346\n",
      "length of shortest read = 30\n",
      "length of query = 648\n"
     ]
    }
   ],
   "source": [
    "num_reads = len(reads)\n",
    "read_lengths = []\n",
    "[read_lengths.append(len(sequence)) for sequence in reads.values()]\n",
    "max_read_length = max(read_lengths)\n",
    "min_read_length = min(read_lengths)\n",
    "length_query = len(query)\n",
    "\n",
    "print(f\"total number of reads = {num_reads}\")\n",
    "print(f\"length of longest read = {max_read_length}\")\n",
    "print(f\"length of shortest read = {min_read_length}\")\n",
    "print(f\"length of query = {length_query}\")"
   ]
  },
  {
   "cell_type": "code",
   "execution_count": null,
   "metadata": {},
   "outputs": [],
   "source": []
  }
 ],
 "metadata": {
  "kernelspec": {
   "display_name": "Python 3",
   "language": "python",
   "name": "python3"
  },
  "language_info": {
   "codemirror_mode": {
    "name": "ipython",
    "version": 3
   },
   "file_extension": ".py",
   "mimetype": "text/x-python",
   "name": "python",
   "nbconvert_exporter": "python",
   "pygments_lexer": "ipython3",
   "version": "3.10.7"
  },
  "orig_nbformat": 4
 },
 "nbformat": 4,
 "nbformat_minor": 2
}
