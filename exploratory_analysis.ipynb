{
 "cells": [
  {
   "cell_type": "code",
   "execution_count": 4,
   "metadata": {},
   "outputs": [
    {
     "ename": "FileNotFoundError",
     "evalue": "[Errno 2] No such file or directory: './data/READS.fasta'",
     "output_type": "error",
     "traceback": [
      "\u001b[0;31m---------------------------------------------------------------------------\u001b[0m",
      "\u001b[0;31mFileNotFoundError\u001b[0m                         Traceback (most recent call last)",
      "Cell \u001b[0;32mIn[4], line 3\u001b[0m\n\u001b[1;32m      1\u001b[0m \u001b[39mfrom\u001b[39;00m \u001b[39mdata_loader\u001b[39;00m \u001b[39mimport\u001b[39;00m parse_reads, parse_query\n\u001b[0;32m----> 3\u001b[0m reads \u001b[39m=\u001b[39m parse_reads(\u001b[39m\"\u001b[39;49m\u001b[39m./data/READS.fasta\u001b[39;49m\u001b[39m\"\u001b[39;49m)\n\u001b[1;32m      4\u001b[0m query \u001b[39m=\u001b[39m parse_query(\u001b[39m\"\u001b[39m\u001b[39m./data/QUERY.fasta\u001b[39m\u001b[39m\"\u001b[39m)\n",
      "File \u001b[0;32m~/Desktop/7712_assembly_and_alignment/notebooks/data_loader.py:49\u001b[0m, in \u001b[0;36mparse_reads\u001b[0;34m(fp)\u001b[0m\n\u001b[1;32m     47\u001b[0m nucleotides \u001b[39m=\u001b[39m \u001b[39mset\u001b[39m(\u001b[39m\"\u001b[39m\u001b[39mATCG\u001b[39m\u001b[39m\"\u001b[39m)\n\u001b[1;32m     48\u001b[0m read_dict \u001b[39m=\u001b[39m {}\n\u001b[0;32m---> 49\u001b[0m \u001b[39mwith\u001b[39;00m \u001b[39mopen\u001b[39;49m(fp, \u001b[39m\"\u001b[39;49m\u001b[39mr\u001b[39;49m\u001b[39m\"\u001b[39;49m) \u001b[39mas\u001b[39;00m file:\n\u001b[1;32m     50\u001b[0m     lines \u001b[39m=\u001b[39m file\u001b[39m.\u001b[39mreadlines()\n\u001b[1;32m     51\u001b[0m     \u001b[39mif\u001b[39;00m \u001b[39mlen\u001b[39m(lines) \u001b[39m%\u001b[39m \u001b[39m2\u001b[39m \u001b[39m!=\u001b[39m \u001b[39m0\u001b[39m:\n",
      "\u001b[0;31mFileNotFoundError\u001b[0m: [Errno 2] No such file or directory: './data/READS.fasta'"
     ]
    }
   ],
   "source": [
    "from data_loader import parse_reads, parse_query\n",
    "\n",
    "reads = parse_reads(\"data/READS.fasta\")\n",
    "query = parse_query(\"data/QUERY.fasta\")"
   ]
  },
  {
   "cell_type": "code",
   "execution_count": 18,
   "metadata": {},
   "outputs": [
    {
     "name": "stdout",
     "output_type": "stream",
     "text": [
      "total number of reads = 124520\n",
      "length of longest read = 346\n",
      "length of shortest read = 30\n",
      "length of query = 648\n"
     ]
    }
   ],
   "source": [
    "num_reads = len(reads)\n",
    "read_lengths = []\n",
    "[read_lengths.append(len(sequence)) for sequence in reads.values()]\n",
    "max_read_length = max(read_lengths)\n",
    "min_read_length = min(read_lengths)\n",
    "length_query = len(query)\n",
    "\n",
    "print(f\"total number of reads = {num_reads}\")\n",
    "print(f\"length of longest read = {max_read_length}\")\n",
    "print(f\"length of shortest read = {min_read_length}\")\n",
    "print(f\"length of query = {length_query}\")"
   ]
  },
  {
   "cell_type": "code",
   "execution_count": null,
   "metadata": {},
   "outputs": [],
   "source": []
  }
 ],
 "metadata": {
  "kernelspec": {
   "display_name": "Python 3",
   "language": "python",
   "name": "python3"
  },
  "language_info": {
   "codemirror_mode": {
    "name": "ipython",
    "version": 3
   },
   "file_extension": ".py",
   "mimetype": "text/x-python",
   "name": "python",
   "nbconvert_exporter": "python",
   "pygments_lexer": "ipython3",
   "version": "3.10.7"
  },
  "orig_nbformat": 4
 },
 "nbformat": 4,
 "nbformat_minor": 2
}
